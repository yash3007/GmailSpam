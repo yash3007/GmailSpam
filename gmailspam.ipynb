{
 "cells": [
  {
   "cell_type": "code",
   "execution_count": null,
   "metadata": {
    "colab": {
     "base_uri": "https://localhost:8080/"
    },
    "executionInfo": {
     "elapsed": 3805,
     "status": "ok",
     "timestamp": 1629004315948,
     "user": {
      "displayName": "Yash Dhand",
      "photoUrl": "https://lh3.googleusercontent.com/a-/AOh14Gg7__r_fyXeb34G_n5IDP6vagcdxS2wZE7CqeBm0Q=s64",
      "userId": "04183260492847486575"
     },
     "user_tz": -330
    },
    "id": "ar9kJH7LNHGv",
    "outputId": "472de3cb-b2db-42da-a205-dfdaa304b91c"
   },
   "outputs": [
    {
     "name": "stdout",
     "output_type": "stream",
     "text": [
      "Requirement already satisfied: nltk in /usr/local/lib/python3.7/dist-packages (3.2.5)\n",
      "Requirement already satisfied: six in /usr/local/lib/python3.7/dist-packages (from nltk) (1.15.0)\n"
     ]
    }
   ],
   "source": [
    "pip install nltk"
   ]
  },
  {
   "cell_type": "code",
   "execution_count": null,
   "metadata": {
    "id": "w_BPoHH0OUor"
   },
   "outputs": [],
   "source": [
    "import nltk"
   ]
  },
  {
   "cell_type": "code",
   "execution_count": null,
   "metadata": {
    "colab": {
     "base_uri": "https://localhost:8080/"
    },
    "executionInfo": {
     "elapsed": 1083,
     "status": "ok",
     "timestamp": 1629004442753,
     "user": {
      "displayName": "Yash Dhand",
      "photoUrl": "https://lh3.googleusercontent.com/a-/AOh14Gg7__r_fyXeb34G_n5IDP6vagcdxS2wZE7CqeBm0Q=s64",
      "userId": "04183260492847486575"
     },
     "user_tz": -330
    },
    "id": "GoTJ6nIyOqj9",
    "outputId": "739373f4-7af2-4196-8a69-07d482ee17b4"
   },
   "outputs": [
    {
     "name": "stdout",
     "output_type": "stream",
     "text": [
      "[nltk_data] Downloading package wordnet to /root/nltk_data...\n",
      "[nltk_data]   Unzipping corpora/wordnet.zip.\n"
     ]
    },
    {
     "data": {
      "text/plain": [
       "True"
      ]
     },
     "execution_count": 5,
     "metadata": {
      "tags": []
     },
     "output_type": "execute_result"
    }
   ],
   "source": [
    "nltk.download('wordnet')"
   ]
  },
  {
   "cell_type": "code",
   "execution_count": null,
   "metadata": {
    "id": "YwnU4bypOyXj"
   },
   "outputs": [],
   "source": [
    "import pandas as pd\n"
   ]
  },
  {
   "cell_type": "code",
   "execution_count": null,
   "metadata": {
    "id": "bvFJUAKoPH6v"
   },
   "outputs": [],
   "source": [
    "#loading dataset\n",
    "dt=pd.read_csv(\"SPAM.csv\",encoding = 'Windows-1252')"
   ]
  },
  {
   "cell_type": "code",
   "execution_count": null,
   "metadata": {
    "colab": {
     "base_uri": "https://localhost:8080/"
    },
    "executionInfo": {
     "elapsed": 501,
     "status": "ok",
     "timestamp": 1629005030413,
     "user": {
      "displayName": "Yash Dhand",
      "photoUrl": "https://lh3.googleusercontent.com/a-/AOh14Gg7__r_fyXeb34G_n5IDP6vagcdxS2wZE7CqeBm0Q=s64",
      "userId": "04183260492847486575"
     },
     "user_tz": -330
    },
    "id": "yg3WYrhLQWXs",
    "outputId": "9db4b9b1-9d12-4285-f1de-c521d2a18e7c"
   },
   "outputs": [
    {
     "data": {
      "text/plain": [
       "{'confidence': 0.73, 'encoding': 'Windows-1252', 'language': ''}"
      ]
     },
     "execution_count": 9,
     "metadata": {
      "tags": []
     },
     "output_type": "execute_result"
    }
   ],
   "source": [
    "import chardet\n",
    "with open(\"SPAM.csv\",'rb') as rawdata:\n",
    "  result = chardet.detect(rawdata.read(100000))\n",
    "result"
   ]
  },
  {
   "cell_type": "code",
   "execution_count": null,
   "metadata": {
    "colab": {
     "base_uri": "https://localhost:8080/",
     "height": 206
    },
    "executionInfo": {
     "elapsed": 557,
     "status": "ok",
     "timestamp": 1629005258233,
     "user": {
      "displayName": "Yash Dhand",
      "photoUrl": "https://lh3.googleusercontent.com/a-/AOh14Gg7__r_fyXeb34G_n5IDP6vagcdxS2wZE7CqeBm0Q=s64",
      "userId": "04183260492847486575"
     },
     "user_tz": -330
    },
    "id": "-a_XbBhaRB-l",
    "outputId": "1b31c67c-08b3-4205-a287-5a5743e6a43a"
   },
   "outputs": [
    {
     "data": {
      "text/html": [
       "<div>\n",
       "<style scoped>\n",
       "    .dataframe tbody tr th:only-of-type {\n",
       "        vertical-align: middle;\n",
       "    }\n",
       "\n",
       "    .dataframe tbody tr th {\n",
       "        vertical-align: top;\n",
       "    }\n",
       "\n",
       "    .dataframe thead th {\n",
       "        text-align: right;\n",
       "    }\n",
       "</style>\n",
       "<table border=\"1\" class=\"dataframe\">\n",
       "  <thead>\n",
       "    <tr style=\"text-align: right;\">\n",
       "      <th></th>\n",
       "      <th>type</th>\n",
       "      <th>text</th>\n",
       "    </tr>\n",
       "  </thead>\n",
       "  <tbody>\n",
       "    <tr>\n",
       "      <th>0</th>\n",
       "      <td>ham</td>\n",
       "      <td>Go until jurong point, crazy.. Available only ...</td>\n",
       "    </tr>\n",
       "    <tr>\n",
       "      <th>1</th>\n",
       "      <td>ham</td>\n",
       "      <td>Ok lar... Joking wif u oni...</td>\n",
       "    </tr>\n",
       "    <tr>\n",
       "      <th>2</th>\n",
       "      <td>spam</td>\n",
       "      <td>Free entry in 2 a wkly comp to win FA Cup fina...</td>\n",
       "    </tr>\n",
       "    <tr>\n",
       "      <th>3</th>\n",
       "      <td>ham</td>\n",
       "      <td>U dun say so early hor... U c already then say...</td>\n",
       "    </tr>\n",
       "    <tr>\n",
       "      <th>4</th>\n",
       "      <td>ham</td>\n",
       "      <td>Nah I don't think he goes to usf, he lives aro...</td>\n",
       "    </tr>\n",
       "  </tbody>\n",
       "</table>\n",
       "</div>"
      ],
      "text/plain": [
       "   type                                               text\n",
       "0   ham  Go until jurong point, crazy.. Available only ...\n",
       "1   ham                      Ok lar... Joking wif u oni...\n",
       "2  spam  Free entry in 2 a wkly comp to win FA Cup fina...\n",
       "3   ham  U dun say so early hor... U c already then say...\n",
       "4   ham  Nah I don't think he goes to usf, he lives aro..."
      ]
     },
     "execution_count": 12,
     "metadata": {
      "tags": []
     },
     "output_type": "execute_result"
    }
   ],
   "source": [
    "dt.head()\n"
   ]
  },
  {
   "cell_type": "code",
   "execution_count": null,
   "metadata": {
    "id": "dSF4jg61R5la"
   },
   "outputs": [],
   "source": [
    "dt['SPAM']=dt['type'].map({'spam':1,'ham':0}).astype(int)"
   ]
  },
  {
   "cell_type": "code",
   "execution_count": null,
   "metadata": {
    "colab": {
     "base_uri": "https://localhost:8080/",
     "height": 206
    },
    "executionInfo": {
     "elapsed": 513,
     "status": "ok",
     "timestamp": 1629005442546,
     "user": {
      "displayName": "Yash Dhand",
      "photoUrl": "https://lh3.googleusercontent.com/a-/AOh14Gg7__r_fyXeb34G_n5IDP6vagcdxS2wZE7CqeBm0Q=s64",
      "userId": "04183260492847486575"
     },
     "user_tz": -330
    },
    "id": "wiFdMtVhSi02",
    "outputId": "eaca10db-06c3-4b3e-d4b7-16cc97752646"
   },
   "outputs": [
    {
     "data": {
      "text/html": [
       "<div>\n",
       "<style scoped>\n",
       "    .dataframe tbody tr th:only-of-type {\n",
       "        vertical-align: middle;\n",
       "    }\n",
       "\n",
       "    .dataframe tbody tr th {\n",
       "        vertical-align: top;\n",
       "    }\n",
       "\n",
       "    .dataframe thead th {\n",
       "        text-align: right;\n",
       "    }\n",
       "</style>\n",
       "<table border=\"1\" class=\"dataframe\">\n",
       "  <thead>\n",
       "    <tr style=\"text-align: right;\">\n",
       "      <th></th>\n",
       "      <th>type</th>\n",
       "      <th>text</th>\n",
       "      <th>SPAM</th>\n",
       "    </tr>\n",
       "  </thead>\n",
       "  <tbody>\n",
       "    <tr>\n",
       "      <th>0</th>\n",
       "      <td>ham</td>\n",
       "      <td>Go until jurong point, crazy.. Available only ...</td>\n",
       "      <td>0</td>\n",
       "    </tr>\n",
       "    <tr>\n",
       "      <th>1</th>\n",
       "      <td>ham</td>\n",
       "      <td>Ok lar... Joking wif u oni...</td>\n",
       "      <td>0</td>\n",
       "    </tr>\n",
       "    <tr>\n",
       "      <th>2</th>\n",
       "      <td>spam</td>\n",
       "      <td>Free entry in 2 a wkly comp to win FA Cup fina...</td>\n",
       "      <td>1</td>\n",
       "    </tr>\n",
       "    <tr>\n",
       "      <th>3</th>\n",
       "      <td>ham</td>\n",
       "      <td>U dun say so early hor... U c already then say...</td>\n",
       "      <td>0</td>\n",
       "    </tr>\n",
       "    <tr>\n",
       "      <th>4</th>\n",
       "      <td>ham</td>\n",
       "      <td>Nah I don't think he goes to usf, he lives aro...</td>\n",
       "      <td>0</td>\n",
       "    </tr>\n",
       "  </tbody>\n",
       "</table>\n",
       "</div>"
      ],
      "text/plain": [
       "   type                                               text  SPAM\n",
       "0   ham  Go until jurong point, crazy.. Available only ...     0\n",
       "1   ham                      Ok lar... Joking wif u oni...     0\n",
       "2  spam  Free entry in 2 a wkly comp to win FA Cup fina...     1\n",
       "3   ham  U dun say so early hor... U c already then say...     0\n",
       "4   ham  Nah I don't think he goes to usf, he lives aro...     0"
      ]
     },
     "execution_count": 14,
     "metadata": {
      "tags": []
     },
     "output_type": "execute_result"
    }
   ],
   "source": [
    "dt.head()\n"
   ]
  },
  {
   "cell_type": "code",
   "execution_count": null,
   "metadata": {
    "colab": {
     "base_uri": "https://localhost:8080/"
    },
    "executionInfo": {
     "elapsed": 383,
     "status": "ok",
     "timestamp": 1629005715000,
     "user": {
      "displayName": "Yash Dhand",
      "photoUrl": "https://lh3.googleusercontent.com/a-/AOh14Gg7__r_fyXeb34G_n5IDP6vagcdxS2wZE7CqeBm0Q=s64",
      "userId": "04183260492847486575"
     },
     "user_tz": -330
    },
    "id": "qTqX22anSmmJ",
    "outputId": "08708ab8-2929-4921-99ef-739b10942cf5"
   },
   "outputs": [
    {
     "name": "stdout",
     "output_type": "stream",
     "text": [
      "COLUMNS IN THE GIVEN DATA\n",
      "type\n",
      "text\n",
      "SPAM\n"
     ]
    }
   ],
   "source": [
    "print(\"COLUMNS IN THE GIVEN DATA\")\n",
    "for col in dt.columns:\n",
    "  print(col)"
   ]
  },
  {
   "cell_type": "code",
   "execution_count": null,
   "metadata": {
    "colab": {
     "base_uri": "https://localhost:8080/"
    },
    "executionInfo": {
     "elapsed": 551,
     "status": "ok",
     "timestamp": 1629005845809,
     "user": {
      "displayName": "Yash Dhand",
      "photoUrl": "https://lh3.googleusercontent.com/a-/AOh14Gg7__r_fyXeb34G_n5IDP6vagcdxS2wZE7CqeBm0Q=s64",
      "userId": "04183260492847486575"
     },
     "user_tz": -330
    },
    "id": "-P13GPqKTTOp",
    "outputId": "116730a9-4b07-43d5-b61f-c91a7596d43b"
   },
   "outputs": [
    {
     "name": "stdout",
     "output_type": "stream",
     "text": [
      "NO OF ROWS IN REVIEW COLUMN 116\n",
      "NO OF ROWS IN LIKED COLUMN 116\n"
     ]
    }
   ],
   "source": [
    "t=len(dt['type'])\n",
    "print(\"NO OF ROWS IN REVIEW COLUMN\",t)"
   ]
  },
  {
   "cell_type": "code",
   "execution_count": null,
   "metadata": {
    "colab": {
     "base_uri": "https://localhost:8080/",
     "height": 35
    },
    "executionInfo": {
     "elapsed": 693,
     "status": "ok",
     "timestamp": 1629006180485,
     "user": {
      "displayName": "Yash Dhand",
      "photoUrl": "https://lh3.googleusercontent.com/a-/AOh14Gg7__r_fyXeb34G_n5IDP6vagcdxS2wZE7CqeBm0Q=s64",
      "userId": "04183260492847486575"
     },
     "user_tz": -330
    },
    "id": "uEpAynuHUJCl",
    "outputId": "81aedabc-d281-40ce-baff-c97618617fd2"
   },
   "outputs": [
    {
     "data": {
      "application/vnd.google.colaboratory.intrinsic+json": {
       "type": "string"
      },
      "text/plain": [
       "\"Nah I don't think he goes to usf, he lives around here though\""
      ]
     },
     "execution_count": 19,
     "metadata": {
      "tags": []
     },
     "output_type": "execute_result"
    }
   ],
   "source": [
    "#TOKENIZATION\n",
    "dt['text'][4]"
   ]
  },
  {
   "cell_type": "code",
   "execution_count": null,
   "metadata": {
    "id": "yjrYRjgwVatp"
   },
   "outputs": [],
   "source": [
    "def tokenizer(text):\n",
    "  return text.split()"
   ]
  },
  {
   "cell_type": "code",
   "execution_count": null,
   "metadata": {
    "id": "ciW1QbYjVr6e"
   },
   "outputs": [],
   "source": [
    "dt['text']=dt['text'].apply(tokenizer)"
   ]
  },
  {
   "cell_type": "code",
   "execution_count": null,
   "metadata": {
    "colab": {
     "base_uri": "https://localhost:8080/"
    },
    "executionInfo": {
     "elapsed": 533,
     "status": "ok",
     "timestamp": 1629006490095,
     "user": {
      "displayName": "Yash Dhand",
      "photoUrl": "https://lh3.googleusercontent.com/a-/AOh14Gg7__r_fyXeb34G_n5IDP6vagcdxS2wZE7CqeBm0Q=s64",
      "userId": "04183260492847486575"
     },
     "user_tz": -330
    },
    "id": "gSiXG6TOV74f",
    "outputId": "663785db-44e0-4c68-b492-a51e0ea5247b"
   },
   "outputs": [
    {
     "data": {
      "text/plain": [
       "['Nah',\n",
       " 'I',\n",
       " \"don't\",\n",
       " 'think',\n",
       " 'he',\n",
       " 'goes',\n",
       " 'to',\n",
       " 'usf,',\n",
       " 'he',\n",
       " 'lives',\n",
       " 'around',\n",
       " 'here',\n",
       " 'though']"
      ]
     },
     "execution_count": 23,
     "metadata": {
      "tags": []
     },
     "output_type": "execute_result"
    }
   ],
   "source": [
    "#stemming\n",
    "dt['text'][4]#before"
   ]
  },
  {
   "cell_type": "code",
   "execution_count": null,
   "metadata": {
    "id": "kdXDbymyWAHC"
   },
   "outputs": [],
   "source": [
    "from nltk.stem.snowball import SnowballStemmer as ss\n",
    "porter=ss(\"english\",ignore_stopwords=False)"
   ]
  },
  {
   "cell_type": "code",
   "execution_count": null,
   "metadata": {
    "id": "N3t-MT4yW-ha"
   },
   "outputs": [],
   "source": [
    "def stemit(text):\n",
    "  return [porter.stem(word) for word in text]"
   ]
  },
  {
   "cell_type": "code",
   "execution_count": null,
   "metadata": {
    "id": "DW3CcO4YY9Zk"
   },
   "outputs": [],
   "source": [
    "dt['text']=dt['text'].apply(stemit)"
   ]
  },
  {
   "cell_type": "code",
   "execution_count": null,
   "metadata": {
    "colab": {
     "base_uri": "https://localhost:8080/"
    },
    "executionInfo": {
     "elapsed": 581,
     "status": "ok",
     "timestamp": 1629007153477,
     "user": {
      "displayName": "Yash Dhand",
      "photoUrl": "https://lh3.googleusercontent.com/a-/AOh14Gg7__r_fyXeb34G_n5IDP6vagcdxS2wZE7CqeBm0Q=s64",
      "userId": "04183260492847486575"
     },
     "user_tz": -330
    },
    "id": "ZlM8LDQiZEKg",
    "outputId": "ac14666f-5962-42aa-9b82-3814951b4776"
   },
   "outputs": [
    {
     "data": {
      "text/plain": [
       "['nah',\n",
       " 'i',\n",
       " \"don't\",\n",
       " 'think',\n",
       " 'he',\n",
       " 'goe',\n",
       " 'to',\n",
       " 'usf,',\n",
       " 'he',\n",
       " 'live',\n",
       " 'around',\n",
       " 'here',\n",
       " 'though']"
      ]
     },
     "execution_count": 28,
     "metadata": {
      "tags": []
     },
     "output_type": "execute_result"
    }
   ],
   "source": [
    "dt['text'][4]"
   ]
  },
  {
   "cell_type": "code",
   "execution_count": null,
   "metadata": {
    "id": "Gfc6b-gAZIRp"
   },
   "outputs": [],
   "source": [
    "#LEMMITIZATION\n",
    "from nltk.stem import WordNetLemmatizer\n",
    "lemmatizer=WordNetLemmatizer()"
   ]
  },
  {
   "cell_type": "code",
   "execution_count": null,
   "metadata": {
    "id": "krvK19vIZvFT"
   },
   "outputs": [],
   "source": [
    "def lemmit_it(text):\n",
    "   return [lemmatizer.lemmatize(word, pos = 'a') for word in text]\n",
    "dt['text']=dt['text'].apply(lemmit_it)"
   ]
  },
  {
   "cell_type": "code",
   "execution_count": null,
   "metadata": {
    "colab": {
     "base_uri": "https://localhost:8080/"
    },
    "executionInfo": {
     "elapsed": 874,
     "status": "ok",
     "timestamp": 1629007942818,
     "user": {
      "displayName": "Yash Dhand",
      "photoUrl": "https://lh3.googleusercontent.com/a-/AOh14Gg7__r_fyXeb34G_n5IDP6vagcdxS2wZE7CqeBm0Q=s64",
      "userId": "04183260492847486575"
     },
     "user_tz": -330
    },
    "id": "NuYS0Ld_aMsr",
    "outputId": "1456d607-18ce-4c28-c05e-d6c5965175f7"
   },
   "outputs": [
    {
     "data": {
      "text/plain": [
       "['nah',\n",
       " 'i',\n",
       " \"don't\",\n",
       " 'think',\n",
       " 'he',\n",
       " 'goe',\n",
       " 'to',\n",
       " 'usf,',\n",
       " 'he',\n",
       " 'live',\n",
       " 'around',\n",
       " 'here',\n",
       " 'though']"
      ]
     },
     "execution_count": 44,
     "metadata": {
      "tags": []
     },
     "output_type": "execute_result"
    }
   ],
   "source": [
    "dt['text'][4]"
   ]
  },
  {
   "cell_type": "code",
   "execution_count": null,
   "metadata": {
    "id": "9sYubLY7cI7I"
   },
   "outputs": [],
   "source": [
    "from nltk.corpus import stopwords\n",
    "stop_words=stopwords.words(\"english\")"
   ]
  },
  {
   "cell_type": "code",
   "execution_count": null,
   "metadata": {
    "colab": {
     "base_uri": "https://localhost:8080/"
    },
    "executionInfo": {
     "elapsed": 426,
     "status": "ok",
     "timestamp": 1629008062968,
     "user": {
      "displayName": "Yash Dhand",
      "photoUrl": "https://lh3.googleusercontent.com/a-/AOh14Gg7__r_fyXeb34G_n5IDP6vagcdxS2wZE7CqeBm0Q=s64",
      "userId": "04183260492847486575"
     },
     "user_tz": -330
    },
    "id": "0xFnjN09cYzb",
    "outputId": "976b6884-a0e0-4248-9b3f-58926d1f04e4"
   },
   "outputs": [
    {
     "name": "stdout",
     "output_type": "stream",
     "text": [
      "[nltk_data] Downloading package stopwords to /root/nltk_data...\n",
      "[nltk_data]   Unzipping corpora/stopwords.zip.\n"
     ]
    },
    {
     "data": {
      "text/plain": [
       "True"
      ]
     },
     "execution_count": 47,
     "metadata": {
      "tags": []
     },
     "output_type": "execute_result"
    }
   ],
   "source": [
    "nltk.download('stopwords')"
   ]
  },
  {
   "cell_type": "code",
   "execution_count": null,
   "metadata": {
    "id": "7Q1y1DGKcipy"
   },
   "outputs": [],
   "source": [
    "def stop_it(text):\n",
    "  review = [word for word in text if not word in stop_words]\n",
    "  return review"
   ]
  },
  {
   "cell_type": "code",
   "execution_count": null,
   "metadata": {
    "id": "t7uNGeDKdASq"
   },
   "outputs": [],
   "source": [
    "dt['text']=dt['text'].apply(stop_it)"
   ]
  },
  {
   "cell_type": "code",
   "execution_count": null,
   "metadata": {
    "colab": {
     "base_uri": "https://localhost:8080/"
    },
    "executionInfo": {
     "elapsed": 545,
     "status": "ok",
     "timestamp": 1629008199736,
     "user": {
      "displayName": "Yash Dhand",
      "photoUrl": "https://lh3.googleusercontent.com/a-/AOh14Gg7__r_fyXeb34G_n5IDP6vagcdxS2wZE7CqeBm0Q=s64",
      "userId": "04183260492847486575"
     },
     "user_tz": -330
    },
    "id": "BT3-q0IsdEdW",
    "outputId": "265022ab-7547-4c28-bf37-a03c9c6e7a09"
   },
   "outputs": [
    {
     "data": {
      "text/plain": [
       "['nah', 'think', 'goe', 'usf,', 'live', 'around', 'though']"
      ]
     },
     "execution_count": 51,
     "metadata": {
      "tags": []
     },
     "output_type": "execute_result"
    }
   ],
   "source": [
    "dt['text'][4]\n"
   ]
  },
  {
   "cell_type": "code",
   "execution_count": null,
   "metadata": {
    "colab": {
     "base_uri": "https://localhost:8080/",
     "height": 206
    },
    "executionInfo": {
     "elapsed": 463,
     "status": "ok",
     "timestamp": 1629008225802,
     "user": {
      "displayName": "Yash Dhand",
      "photoUrl": "https://lh3.googleusercontent.com/a-/AOh14Gg7__r_fyXeb34G_n5IDP6vagcdxS2wZE7CqeBm0Q=s64",
      "userId": "04183260492847486575"
     },
     "user_tz": -330
    },
    "id": "nW7MXkWsdHqR",
    "outputId": "62ae56c6-3e9d-4f4a-b3e9-04ddbcfb1589"
   },
   "outputs": [
    {
     "data": {
      "text/html": [
       "<div>\n",
       "<style scoped>\n",
       "    .dataframe tbody tr th:only-of-type {\n",
       "        vertical-align: middle;\n",
       "    }\n",
       "\n",
       "    .dataframe tbody tr th {\n",
       "        vertical-align: top;\n",
       "    }\n",
       "\n",
       "    .dataframe thead th {\n",
       "        text-align: right;\n",
       "    }\n",
       "</style>\n",
       "<table border=\"1\" class=\"dataframe\">\n",
       "  <thead>\n",
       "    <tr style=\"text-align: right;\">\n",
       "      <th></th>\n",
       "      <th>type</th>\n",
       "      <th>text</th>\n",
       "      <th>SPAM</th>\n",
       "    </tr>\n",
       "  </thead>\n",
       "  <tbody>\n",
       "    <tr>\n",
       "      <th>0</th>\n",
       "      <td>ham</td>\n",
       "      <td>[go, jurong, point,, crazy.., avail, onli, bug...</td>\n",
       "      <td>0</td>\n",
       "    </tr>\n",
       "    <tr>\n",
       "      <th>1</th>\n",
       "      <td>ham</td>\n",
       "      <td>[ok, lar..., joke, wif, u, oni...]</td>\n",
       "      <td>0</td>\n",
       "    </tr>\n",
       "    <tr>\n",
       "      <th>2</th>\n",
       "      <td>spam</td>\n",
       "      <td>[free, entri, 2, wkli, comp, win, fa, cup, fin...</td>\n",
       "      <td>1</td>\n",
       "    </tr>\n",
       "    <tr>\n",
       "      <th>3</th>\n",
       "      <td>ham</td>\n",
       "      <td>[u, dun, say, earli, hor..., u, c, alreadi, sa...</td>\n",
       "      <td>0</td>\n",
       "    </tr>\n",
       "    <tr>\n",
       "      <th>4</th>\n",
       "      <td>ham</td>\n",
       "      <td>[nah, think, goe, usf,, live, around, though]</td>\n",
       "      <td>0</td>\n",
       "    </tr>\n",
       "  </tbody>\n",
       "</table>\n",
       "</div>"
      ],
      "text/plain": [
       "   type                                               text  SPAM\n",
       "0   ham  [go, jurong, point,, crazy.., avail, onli, bug...     0\n",
       "1   ham                 [ok, lar..., joke, wif, u, oni...]     0\n",
       "2  spam  [free, entri, 2, wkli, comp, win, fa, cup, fin...     1\n",
       "3   ham  [u, dun, say, earli, hor..., u, c, alreadi, sa...     0\n",
       "4   ham      [nah, think, goe, usf,, live, around, though]     0"
      ]
     },
     "execution_count": 52,
     "metadata": {
      "tags": []
     },
     "output_type": "execute_result"
    }
   ],
   "source": [
    "dt.head()\n"
   ]
  },
  {
   "cell_type": "code",
   "execution_count": null,
   "metadata": {
    "colab": {
     "base_uri": "https://localhost:8080/",
     "height": 206
    },
    "executionInfo": {
     "elapsed": 605,
     "status": "ok",
     "timestamp": 1629008343153,
     "user": {
      "displayName": "Yash Dhand",
      "photoUrl": "https://lh3.googleusercontent.com/a-/AOh14Gg7__r_fyXeb34G_n5IDP6vagcdxS2wZE7CqeBm0Q=s64",
      "userId": "04183260492847486575"
     },
     "user_tz": -330
    },
    "id": "n4PhLWGOdOG-",
    "outputId": "34ffc8d9-bf0a-48a6-e241-fb6c777c309f"
   },
   "outputs": [
    {
     "data": {
      "text/html": [
       "<div>\n",
       "<style scoped>\n",
       "    .dataframe tbody tr th:only-of-type {\n",
       "        vertical-align: middle;\n",
       "    }\n",
       "\n",
       "    .dataframe tbody tr th {\n",
       "        vertical-align: top;\n",
       "    }\n",
       "\n",
       "    .dataframe thead th {\n",
       "        text-align: right;\n",
       "    }\n",
       "</style>\n",
       "<table border=\"1\" class=\"dataframe\">\n",
       "  <thead>\n",
       "    <tr style=\"text-align: right;\">\n",
       "      <th></th>\n",
       "      <th>type</th>\n",
       "      <th>text</th>\n",
       "      <th>SPAM</th>\n",
       "    </tr>\n",
       "  </thead>\n",
       "  <tbody>\n",
       "    <tr>\n",
       "      <th>0</th>\n",
       "      <td>ham</td>\n",
       "      <td>go jurong point, crazy.. avail onli bugi n gre...</td>\n",
       "      <td>0</td>\n",
       "    </tr>\n",
       "    <tr>\n",
       "      <th>1</th>\n",
       "      <td>ham</td>\n",
       "      <td>ok lar... joke wif u oni...</td>\n",
       "      <td>0</td>\n",
       "    </tr>\n",
       "    <tr>\n",
       "      <th>2</th>\n",
       "      <td>spam</td>\n",
       "      <td>free entri 2 wkli comp win fa cup final tkts 2...</td>\n",
       "      <td>1</td>\n",
       "    </tr>\n",
       "    <tr>\n",
       "      <th>3</th>\n",
       "      <td>ham</td>\n",
       "      <td>u dun say earli hor... u c alreadi say...</td>\n",
       "      <td>0</td>\n",
       "    </tr>\n",
       "    <tr>\n",
       "      <th>4</th>\n",
       "      <td>ham</td>\n",
       "      <td>nah think goe usf, live around though</td>\n",
       "      <td>0</td>\n",
       "    </tr>\n",
       "  </tbody>\n",
       "</table>\n",
       "</div>"
      ],
      "text/plain": [
       "   type                                               text  SPAM\n",
       "0   ham  go jurong point, crazy.. avail onli bugi n gre...     0\n",
       "1   ham                        ok lar... joke wif u oni...     0\n",
       "2  spam  free entri 2 wkli comp win fa cup final tkts 2...     1\n",
       "3   ham          u dun say earli hor... u c alreadi say...     0\n",
       "4   ham              nah think goe usf, live around though     0"
      ]
     },
     "execution_count": 53,
     "metadata": {
      "tags": []
     },
     "output_type": "execute_result"
    }
   ],
   "source": [
    "dt['text']=dt['text'].apply(' '.join)\n",
    "dt.head()"
   ]
  },
  {
   "cell_type": "code",
   "execution_count": null,
   "metadata": {
    "id": "2hAAZKOKdqdJ"
   },
   "outputs": [],
   "source": [
    "#vectorization\n",
    "from sklearn.feature_extraction.text import TfidfVectorizer\n",
    "tfidf=TfidfVectorizer()\n",
    "y=dt.SPAM.values\n",
    "x=tfidf.fit_transform(dt['text'])"
   ]
  },
  {
   "cell_type": "code",
   "execution_count": null,
   "metadata": {
    "id": "alfQb3zOejQf"
   },
   "outputs": [],
   "source": [
    "from sklearn.model_selection import train_test_split\n",
    "x_train,x_text,y_train,y_text=train_test_split(x,y,random_state=1,test_size=0.2,shuffle=False)"
   ]
  },
  {
   "cell_type": "code",
   "execution_count": null,
   "metadata": {
    "colab": {
     "base_uri": "https://localhost:8080/"
    },
    "executionInfo": {
     "elapsed": 669,
     "status": "ok",
     "timestamp": 1629008983892,
     "user": {
      "displayName": "Yash Dhand",
      "photoUrl": "https://lh3.googleusercontent.com/a-/AOh14Gg7__r_fyXeb34G_n5IDP6vagcdxS2wZE7CqeBm0Q=s64",
      "userId": "04183260492847486575"
     },
     "user_tz": -330
    },
    "id": "faLalTZzfSFE",
    "outputId": "b019e23a-c746-418b-9b6a-dd2940c1a2a8"
   },
   "outputs": [
    {
     "name": "stdout",
     "output_type": "stream",
     "text": [
      "accuracy: 87.5\n"
     ]
    }
   ],
   "source": [
    "from sklearn.linear_model import LogisticRegression\n",
    "clf=LogisticRegression()\n",
    "clf.fit(x_train,y_train)\n",
    "y_pred=clf.predict(x_text)\n",
    "from sklearn.metrics import accuracy_score\n",
    "acc_log = accuracy_score(y_pred, y_text)*100\n",
    "print(\"accuracy:\",acc_log )"
   ]
  },
  {
   "cell_type": "code",
   "execution_count": null,
   "metadata": {
    "colab": {
     "base_uri": "https://localhost:8080/"
    },
    "executionInfo": {
     "elapsed": 998,
     "status": "ok",
     "timestamp": 1629009492339,
     "user": {
      "displayName": "Yash Dhand",
      "photoUrl": "https://lh3.googleusercontent.com/a-/AOh14Gg7__r_fyXeb34G_n5IDP6vagcdxS2wZE7CqeBm0Q=s64",
      "userId": "04183260492847486575"
     },
     "user_tz": -330
    },
    "id": "mbUloNoJgEAa",
    "outputId": "4dc43b33-4fba-4130-c8c0-8c1c51d9ae06"
   },
   "outputs": [
    {
     "name": "stdout",
     "output_type": "stream",
     "text": [
      "accuracy: 87.5\n"
     ]
    }
   ],
   "source": [
    "from sklearn.svm import LinearSVC\n",
    "linear_svc = LinearSVC(random_state=0)\n",
    "linear_svc.fit(x_train, y_train)\n",
    "y_pred = linear_svc.predict(x_text)\n",
    "acc_linear_svc =accuracy_score(y_pred, y_text) * 100\n",
    "print(\"accuracy:\",acc_linear_svc)"
   ]
  },
  {
   "cell_type": "code",
   "execution_count": null,
   "metadata": {
    "id": "65UFalN4ilYP"
   },
   "outputs": [],
   "source": []
  },
  {
   "cell_type": "code",
   "execution_count": null,
   "metadata": {
    "id": "Toecv5uyiBAo"
   },
   "outputs": [],
   "source": []
  },
  {
   "cell_type": "code",
   "execution_count": null,
   "metadata": {
    "id": "Fa_u9rrPijBY"
   },
   "outputs": [],
   "source": []
  }
 ],
 "metadata": {
  "colab": {
   "authorship_tag": "ABX9TyOZjUVxOi40uLhVblCxrBjn",
   "collapsed_sections": [],
   "name": "gmailspam.ipynb",
   "provenance": []
  },
  "kernelspec": {
   "display_name": "Python 3",
   "language": "python",
   "name": "python3"
  },
  "language_info": {
   "codemirror_mode": {
    "name": "ipython",
    "version": 3
   },
   "file_extension": ".py",
   "mimetype": "text/x-python",
   "name": "python",
   "nbconvert_exporter": "python",
   "pygments_lexer": "ipython3",
   "version": "3.8.8"
  }
 },
 "nbformat": 4,
 "nbformat_minor": 1
}
